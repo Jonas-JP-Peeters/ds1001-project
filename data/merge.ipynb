{
 "cells": [
  {
   "cell_type": "code",
   "execution_count": 1,
   "metadata": {},
   "outputs": [
    {
     "data": {
      "application/vnd.jupyter.widget-view+json": {
       "model_id": "5afd67609be94bf28855522f7f42aeb6",
       "version_major": 2,
       "version_minor": 0
      },
      "text/plain": [
       "HBox(children=(IntProgress(value=1, bar_style='info', max=1), HTML(value='')))"
      ]
     },
     "metadata": {},
     "output_type": "display_data"
    }
   ],
   "source": [
    "import pandas as pd\n",
    "from tqdm import tqdm, tqdm_notebook\n",
    "import warnings;\n",
    "warnings.filterwarnings('ignore');\n",
    "tqdm_notebook().pandas() #gives progress_apply bar\n",
    "\n",
    "# Read in datasets\n",
    "sb = pd.read_csv(\"sbro_scrape.csv\")\n",
    "sid = pd.read_csv(\"game_infos.csv\")\n",
    "\n",
    "## Ignore odds portal dataset - no over/under lines\n",
    "#op = pd.read_csv(\"oddsportal_scrape.csv\")"
   ]
  },
  {
   "cell_type": "code",
   "execution_count": 2,
   "metadata": {},
   "outputs": [
    {
     "data": {
      "application/vnd.jupyter.widget-view+json": {
       "model_id": "5c1ff8c9920540229c04ab49a10add1a",
       "version_major": 2,
       "version_minor": 0
      },
      "text/plain": [
       "HBox(children=(IntProgress(value=0, max=49298), HTML(value='')))"
      ]
     },
     "metadata": {},
     "output_type": "display_data"
    },
    {
     "name": "stdout",
     "output_type": "stream",
     "text": [
      "\n",
      "\n"
     ]
    }
   ],
   "source": [
    "#Clean SB Data - only run once!\n",
    "\n",
    "#no duplicates... but good practice\n",
    "sb.drop_duplicates(inplace=True)\n",
    "\n",
    "#insert and rename columns\n",
    "sb.insert(5, \"away_pitcher\", None)\n",
    "sb.insert(19, \"open_under\", None)\n",
    "sb.insert(22, \"close_under\", None)\n",
    "sb.rename(columns={'Date': 'date',\n",
    "                   'Rot': 'start_time',\n",
    "                   'Team': 'home_team',\n",
    "                   'Pitcher': 'home_pitcher',\n",
    "                   'Open OU Odds': 'open_odds',\n",
    "                   'O Over': 'open_over',\n",
    "                   'C Over': 'close_over',\n",
    "                   'Close OU': 'close_odds'}, inplace=True)\n",
    "\n",
    "# sloppy pitcher/odds rearrange... yes, you shouldn't modify in loops\n",
    "r=0\n",
    "for i, row in tqdm_notebook(sb.iterrows(), total=sb.shape[0]):  \n",
    "    if r==0: ## away row\n",
    "        try:\n",
    "            ap = sb.at[i,'home_pitcher']\n",
    "            hp = sb.at[i+1,'home_pitcher']\n",
    "            ou = sb.at[i+1,'open_over']\n",
    "            oo = sb.at[i,'open_over']\n",
    "            cu = sb.at[i+1,'close_over']\n",
    "            co = sb.at[i,'close_over']\n",
    "        except:\n",
    "            print(\"broke\")\n",
    "        sb.at[i,'home_pitcher'] = hp\n",
    "        sb.at[i,'away_pitcher'] = ap\n",
    "        sb.at[i,'open_under'] = ou\n",
    "        sb.at[i,'close_under'] = cu\n",
    "    if r==1: ## home row\n",
    "        sb.at[i,'away_pitcher'] = ap\n",
    "        sb.at[i,'open_over'] = oo\n",
    "        sb.at[i,'open_under'] = ou\n",
    "        sb.at[i,'close_over'] = co\n",
    "        sb.at[i,'close_under'] = cu\n",
    "    r = 1 if r == 0 else 0\n",
    "\n",
    "# drop all visitor rows\n",
    "sb = sb[sb.VH == 'H']\n",
    "\n",
    "# drop innings columns\n",
    "sb = sb.drop(['1st','2nd','3rd','4th','5th','6th','7th','8th','9th','Final','Open','Close'], axis='columns')\n",
    "    \n",
    "#convert to datetime object\n",
    "sb['date'] = sb['date'].apply(lambda x: pd.to_datetime(str(x), format='%Y%m%d'))\n",
    "\n",
    "#renaming like teams\n",
    "sb[\"home_team\"].replace(\"LOS\",\"LAD\",inplace=True) \n",
    "sb[\"home_team\"].replace(\"HOW\",\"HOU\",inplace=True) #fix one record\n",
    "\n",
    "#sb.to_csv(r'sbro_scrape2.csv', index=False)"
   ]
  },
  {
   "cell_type": "code",
   "execution_count": 3,
   "metadata": {},
   "outputs": [],
   "source": [
    "##Ignoring Odds Portal dataset - no over/under lines\n",
    "\n",
    "##no duplicates... but good practice\n",
    "# op.drop_duplicates(inplace=True)\n",
    "\n",
    "##convert to datetime object\n",
    "# op['Date'] = op['Date'].apply(lambda x: pd.to_datetime(str(x), format='%Y%m%d'))\n",
    "\n",
    "##renaming like teams\n",
    "# op.replace(\"Florida Marlins\",\"Miami Marlins\",inplace=True)\n",
    "\n",
    "##prep for merge\n",
    "# op.rename({'Date': 'date'}, axis=1, inplace=True)\n",
    "\n",
    "##op.to_csv(r'op_scrape2.csv', index=False)"
   ]
  },
  {
   "cell_type": "code",
   "execution_count": 4,
   "metadata": {},
   "outputs": [
    {
     "name": "stdout",
     "output_type": "stream",
     "text": [
      "**TODO: check you are happy with the start_times being dropped**\n"
     ]
    },
    {
     "data": {
      "application/vnd.jupyter.widget-view+json": {
       "model_id": "65fb6e5e513f4926a6321b7c50d4085d",
       "version_major": 2,
       "version_minor": 0
      },
      "text/plain": [
       "HBox(children=(IntProgress(value=0, max=48590), HTML(value='')))"
      ]
     },
     "metadata": {},
     "output_type": "display_data"
    },
    {
     "name": "stdout",
     "output_type": "stream",
     "text": [
      "\n"
     ]
    }
   ],
   "source": [
    "#CLEAN SID Data - only run once!\n",
    "\n",
    "#drop duplicate games\n",
    "print(\"**TODO: check you are happy with the start_times being dropped**\")\n",
    "sid.drop_duplicates(subset=sid.columns.difference(['start_time']),inplace=True)\n",
    "\n",
    "#insert/rename columns\n",
    "sid.rename({'date_played': 'date'}, axis=1, inplace=True)\n",
    "\n",
    "#convert to datetime object\n",
    "sid['date'] = sid['date'].progress_apply(lambda x: pd.to_datetime(str(x), format='%d-%b-%y'))\n",
    "\n",
    "#renaming like teams\n",
    "sid.replace(\"Anaheim Angels\",\"Los Angeles Angels\",inplace=True)\n",
    "sid.replace(\"Florida Marlins\",\"Miami Marlins\",inplace=True)\n",
    "sid.replace(\"Los Angeles Angels of Anaheim\",\"Los Angeles Angels\",inplace=True)\n",
    "sid.replace(\"Montreal Expos\",\"Washington Nationals\",inplace=True)\n",
    "sid.replace(\"Tampa Bay Devil Rays\",\"Tampa Bay Rays\",inplace=True)\n",
    "\n",
    "#sid.to_csv(r'game_infos2.csv', index=False)"
   ]
  },
  {
   "cell_type": "code",
   "execution_count": 5,
   "metadata": {},
   "outputs": [],
   "source": [
    "# Dicts to align teams across data sets\n",
    "\n",
    "sid_key = {\n",
    "    \"Arizona Diamondbacks\" : 0,\n",
    "    \"Atlanta Braves\": 1,\n",
    "    \"Baltimore Orioles\": 2,\n",
    "    \"Boston Red Sox\": 3,\n",
    "    \"Chicago Cubs\": 4,\n",
    "    \"Chicago White Sox\": 5,\n",
    "    \"Cincinnati Reds\": 6,\n",
    "    \"Cleveland Indians\": 7,\n",
    "    \"Colorado Rockies\": 8,\n",
    "    \"Detroit Tigers\": 9,\n",
    "    \"Houston Astros\": 10,\n",
    "    \"Kansas City Royals\": 11,\n",
    "    \"Los Angeles Angels\": 12,\n",
    "    \"Los Angeles Dodgers\": 13,\n",
    "    \"Miami Marlins\": 14,\n",
    "    \"Milwaukee Brewers\": 15,\n",
    "    \"Minnesota Twins\": 16,\n",
    "    \"New York Mets\": 17,\n",
    "    \"New York Yankees\": 18,\n",
    "    \"Oakland Athletics\": 19,\n",
    "    \"Philadelphia Phillies\": 20,\n",
    "    \"Pittsburgh Pirates\": 21,\n",
    "    \"San Diego Padres\": 22,\n",
    "    \"San Francisco Giants\": 23,\n",
    "    \"Seattle Mariners\": 24,\n",
    "    \"St. Louis Cardinals\": 25,\n",
    "    \"Tampa Bay Rays\": 26,\n",
    "    \"Texas Rangers\": 27,\n",
    "    \"Toronto Blue Jays\": 28,\n",
    "    \"Washington Nationals\": 29\n",
    "}\n",
    "#     0: \"Anaheim Angels\", convert to \"Los Angeles Angels\"\n",
    "#     10: \"Florida Marlins\", convert to \"Miami Marlins\"\n",
    "#     15: \"Los Angeles Angels of Anaheim\", convert to \"Los Angeles Angels\"\n",
    "#     17: \"Montreal Expos\", convert to \"Washington Nationals\"\n",
    "#     30: \"Tampa Bay Devil Rays\", convert to \"Tampa Bay Rays\"\n",
    "\n",
    "sb_sid = {\n",
    "    \"ARI\":0,\n",
    "    \"ATL\":1,\n",
    "    \"BAL\":2,\n",
    "    \"BOS\":3,\n",
    "    \"CIN\":6,\n",
    "    \"CLE\":7,\n",
    "    \"COL\":8,\n",
    "    \"CUB\":4,\n",
    "    \"CWS\":5,\n",
    "    \"DET\":9,\n",
    "    \"HOU\":10,\n",
    "    \"KAN\":11,\n",
    "    \"LAA\":12,\n",
    "    \"LAD\":13,\n",
    "    \"MIA\":14,\n",
    "    \"MIL\":15,\n",
    "    \"MIN\":16,\n",
    "    \"NYM\":17,\n",
    "    \"NYY\":18,\n",
    "    \"OAK\":19,\n",
    "    \"PHI\":20,\n",
    "    \"PIT\":21,\n",
    "    \"SDG\":22,\n",
    "    \"SEA\":24,\n",
    "    \"SFO\":23,\n",
    "    \"STL\":25,\n",
    "    \"TAM\":26,\n",
    "    \"TEX\":27,\n",
    "    \"TOR\":28,\n",
    "    \"WAS\":29\n",
    "}\n",
    "#     \"LOS\":13, #Old Dodgers\n",
    "\n",
    "# op_sid = {\n",
    "#     \"American League\": 999,\n",
    "#     \"Arizona Diamondbacks\": 0,\n",
    "#     \"Atlanta Braves\": 1,\n",
    "#     \"Australia\": 999,\n",
    "#     \"Baltimore Orioles\": 2,\n",
    "#     \"Boston Red Sox\": 3,\n",
    "#     \"Campeche\": 999, \n",
    "#     \"Chicago Cubs\": 4,\n",
    "#     \"Chicago White Sox\": 5,\n",
    "#     \"Cincinnati Reds\": 6,\n",
    "#     \"Cleveland Indians\": 7,\n",
    "#     \"Colorado Rockies\": 8,\n",
    "#     \"Detroit Tigers\": 9,\n",
    "#     \"El Paso Chihuahuas\": 999,\n",
    "#     \"Houston Astros\": 10,\n",
    "#     \"Kansas City Royals\": 11,\n",
    "#     \"Los Angeles Angels\": 12,\n",
    "#     \"Los Angeles Dodgers\": 13,\n",
    "#     \"Miami Marlins\": 14,\n",
    "#     \"Milwaukee Brewers\": 15,\n",
    "#     \"Minnesota Twins\": 16,\n",
    "#     \"National League\": 999,\n",
    "#     \"New York Mets\": 17,\n",
    "#     \"New York Yankees\": 18, \n",
    "#     \"Oakland Athletics\": 19, \n",
    "#     \"Philadelphia Phillies\": 20,\n",
    "#     \"Pittsburgh Pirates\": 21,\n",
    "#     \"Sacramento River Cats\": 999,\n",
    "#     \"San Diego Padres\": 22,\n",
    "#     \"San Francisco Giants\": 23,\n",
    "#     \"Seattle Mariners\": 24, \n",
    "#     \"St.Louis Cardinals\": 25, \n",
    "#     \"Tabasco\": 999, \n",
    "#     \"Tampa Bay Rays\": 26,\n",
    "#     \"Texas Rangers\": 27,\n",
    "#     \"Toronto Blue Jays\": 28,\n",
    "#     \"Washington Nationals\": 29\n",
    "# }\n",
    "# #     10: \"Florida Marlins\", convert to \"Miami Marlins\""
   ]
  },
  {
   "cell_type": "code",
   "execution_count": 6,
   "metadata": {},
   "outputs": [],
   "source": [
    "import datetime\n",
    "\n",
    "# sloppy UID creator... yes you shouldn't modify in loops - shoot me\n",
    "def dh(df, i):\n",
    "    idx = set(df.index[df['date']==df['date'][i]]) & set(df.index[df['home_team']==df['home_team'][i]])\n",
    "    i2  = idx - set([i])\n",
    "    return 1 if df.loc[i].start_time > df.loc[i2.pop()].start_time else 0\n",
    "\n",
    "def make_UID(df, lookup_dict):\n",
    "    #UID: yymmdd_team_dhpos\n",
    "    if 'UID' not in df.columns:\n",
    "        df.insert(0, \"UID\", None)   \n",
    "    dh_table = df.groupby(['date','home_team']).size()\n",
    "    for i, row in tqdm_notebook(df.iterrows(), total=df.shape[0]): \n",
    "        team = lookup_dict[row[\"home_team\"]]\n",
    "        date = row['date'].strftime(\"%y%m%d\")\n",
    "        if dh_table[row['date']][row['home_team']] < 2:\n",
    "            dhpos = 0\n",
    "        else:\n",
    "            dhpos = dh(df, i)\n",
    "            #print(f'{i}, {team}, {date}, {dhpos}')\n",
    "        df.at[i,'UID'] = f'{date}_{team}_{dhpos}'"
   ]
  },
  {
   "cell_type": "code",
   "execution_count": 7,
   "metadata": {},
   "outputs": [],
   "source": [
    "## sanity check double headers\n",
    "# temp = sid.groupby(['date','home_team']).size().reset_index().rename(columns={0:'count'})\n",
    "# temp.groupby('count').count()\n",
    "# for i, r in temp.iterrows():\n",
    "#     if temp.at[i,'count'] == 2:\n",
    "#         print (f'2: {r[\"home_team\"]}, {r[\"date\"]}')\n",
    "#     None"
   ]
  },
  {
   "cell_type": "code",
   "execution_count": 8,
   "metadata": {},
   "outputs": [
    {
     "data": {
      "application/vnd.jupyter.widget-view+json": {
       "model_id": "3c6095a586a944d09e978005f665f3e0",
       "version_major": 2,
       "version_minor": 0
      },
      "text/plain": [
       "HBox(children=(IntProgress(value=0, max=48590), HTML(value='')))"
      ]
     },
     "metadata": {},
     "output_type": "display_data"
    },
    {
     "name": "stdout",
     "output_type": "stream",
     "text": [
      "\n"
     ]
    }
   ],
   "source": [
    "make_UID(sid, sid_key)"
   ]
  },
  {
   "cell_type": "code",
   "execution_count": 9,
   "metadata": {},
   "outputs": [
    {
     "data": {
      "application/vnd.jupyter.widget-view+json": {
       "model_id": "8bd9d582daf047d083c63cb70e015d9d",
       "version_major": 2,
       "version_minor": 0
      },
      "text/plain": [
       "HBox(children=(IntProgress(value=0, max=24647), HTML(value='')))"
      ]
     },
     "metadata": {},
     "output_type": "display_data"
    },
    {
     "name": "stdout",
     "output_type": "stream",
     "text": [
      "\n"
     ]
    }
   ],
   "source": [
    "make_UID(sb, sb_sid)"
   ]
  },
  {
   "cell_type": "code",
   "execution_count": 10,
   "metadata": {},
   "outputs": [
    {
     "name": "stdout",
     "output_type": "stream",
     "text": [
      "**TODO: Check why there are non-unique IDs**\n",
      "\n",
      "         UID   date\n",
      "count              \n",
      "1      48568  48568\n",
      "2         11     11 \n",
      "\n",
      "i:5217 020428_4_0, 2002-04-28 00:00:00\n",
      "i:5483 020518_7_0, 2002-05-18 00:00:00\n",
      "i:5966 020624_27_0, 2002-06-24 00:00:00\n",
      "i:6216 020715_11_0, 2002-07-15 00:00:00\n",
      "i:6818 020827_6_0, 2002-08-27 00:00:00\n",
      "i:6872 020831_4_0, 2002-08-31 00:00:00\n",
      "i:7006 020910_18_0, 2002-09-10 00:00:00\n",
      "i:29143 120328_19_0, 2012-03-28 00:00:00\n",
      "i:29144 120329_19_0, 2012-03-29 00:00:00\n",
      "i:44607 180605_16_0, 2018-06-05 00:00:00\n",
      "i:48350 190912_9_0, 2019-09-12 00:00:00\n"
     ]
    }
   ],
   "source": [
    "# Issue to dig into - there shouldn't be non-unique IDs\n",
    "print(\"**TODO: Check why there are non-unique IDs**\\n\")\n",
    "temp = sid.groupby(['UID','date']).size().reset_index().rename(columns={0:'count'})\n",
    "print(temp.groupby('count').count(),\"\\n\")\n",
    "for i, r in temp.iterrows():\n",
    "    if temp.at[i,'count'] > 1:\n",
    "        print (f'i:{i} {r[\"UID\"]}, {r[\"date\"]}')\n",
    "    None"
   ]
  },
  {
   "cell_type": "code",
   "execution_count": 11,
   "metadata": {},
   "outputs": [],
   "source": [
    "# merge\n",
    "sb_col = ['UID','home_pitcher', 'away_pitcher', 'open_odds', 'open_under', \n",
    "          'open_over', 'close_odds', 'close_under', 'close_over']\n",
    "m = pd.merge(sid, sb[sb_col],\n",
    "             on='UID', \n",
    "             how='left')#,\n",
    "             #validate=\"one_to_many\")\n",
    "\n",
    "m.to_csv(r'output.csv', index=False)"
   ]
  },
  {
   "cell_type": "code",
   "execution_count": 12,
   "metadata": {},
   "outputs": [
    {
     "name": "stdout",
     "output_type": "stream",
     "text": [
      "Summary\n",
      "(48590, 153) merged dataset\n",
      "24270 rows in common\n",
      "24309 rows not in SB\n",
      "377 SB rows not used\n"
     ]
    }
   ],
   "source": [
    "b  =len(set(sid.UID) & set(sb.UID)) # UIDs in both\n",
    "d1 =len(set(sb.UID) - set(sid.UID)) # sb not in sid\n",
    "d2 =len(set(sid.UID) - set(sb.UID))\n",
    "#(set(sb.UID) & set(sid.UID))\n",
    "print(f'Summary\\n{m.shape} merged dataset\\n{b} rows in common\\n{d2} rows not in SB\\n{d1} SB rows not used')"
   ]
  },
  {
   "cell_type": "code",
   "execution_count": null,
   "metadata": {},
   "outputs": [],
   "source": []
  }
 ],
 "metadata": {
  "kernelspec": {
   "display_name": "Python 3",
   "language": "python",
   "name": "python3"
  },
  "language_info": {
   "codemirror_mode": {
    "name": "ipython",
    "version": 3
   },
   "file_extension": ".py",
   "mimetype": "text/x-python",
   "name": "python",
   "nbconvert_exporter": "python",
   "pygments_lexer": "ipython3",
   "version": "3.7.4"
  }
 },
 "nbformat": 4,
 "nbformat_minor": 2
}
