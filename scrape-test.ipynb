{
 "cells": [
  {
   "cell_type": "code",
   "execution_count": 1,
   "metadata": {},
   "outputs": [],
   "source": [
    "from bs4 import BeautifulSoup"
   ]
  },
  {
   "cell_type": "code",
   "execution_count": 2,
   "metadata": {},
   "outputs": [],
   "source": [
    "import requests"
   ]
  },
  {
   "cell_type": "code",
   "execution_count": 3,
   "metadata": {},
   "outputs": [],
   "source": [
    "page = requests.get('https://www.baseball-reference.com/boxes/KCA/KCA201903280.shtml')"
   ]
  },
  {
   "cell_type": "code",
   "execution_count": 4,
   "metadata": {},
   "outputs": [
    {
     "data": {
      "text/plain": [
       "<Response [200]>"
      ]
     },
     "execution_count": 4,
     "metadata": {},
     "output_type": "execute_result"
    }
   ],
   "source": [
    "page"
   ]
  },
  {
   "cell_type": "code",
   "execution_count": 5,
   "metadata": {},
   "outputs": [],
   "source": [
    "soup = BeautifulSoup(page.text, 'html.parser')"
   ]
  },
  {
   "cell_type": "code",
   "execution_count": 6,
   "metadata": {},
   "outputs": [],
   "source": [
    "linescore = soup.find('table',\n",
    "                      class_='linescore nohover stats_table no_freeze').find('tbody')\n",
    "\n",
    "away_line = linescore.find('tr')\n",
    "away_errors = str(int(away_line.find_all('td')[-1].contents[0]))\n",
    "\n",
    "home_line = away_line.find_next_sibling('tr')\n",
    "home_errors = str(int(away_line.find_all('td')[-1].contents[0]))"
   ]
  },
  {
   "cell_type": "code",
   "execution_count": 8,
   "metadata": {},
   "outputs": [
    {
     "data": {
      "text/plain": [
       "'3'"
      ]
     },
     "execution_count": 8,
     "metadata": {},
     "output_type": "execute_result"
    }
   ],
   "source": [
    "home_errors"
   ]
  },
  {
   "cell_type": "code",
   "execution_count": null,
   "metadata": {},
   "outputs": [],
   "source": []
  },
  {
   "cell_type": "code",
   "execution_count": null,
   "metadata": {},
   "outputs": [],
   "source": []
  },
  {
   "cell_type": "code",
   "execution_count": null,
   "metadata": {},
   "outputs": [],
   "source": []
  },
  {
   "cell_type": "code",
   "execution_count": 41,
   "metadata": {},
   "outputs": [],
   "source": [
    "div = soup.find('h1')"
   ]
  },
  {
   "cell_type": "code",
   "execution_count": 40,
   "metadata": {},
   "outputs": [
    {
     "name": "stdout",
     "output_type": "stream",
     "text": [
      "March 28, 2019\n"
     ]
    }
   ],
   "source": [
    "weekdays = ['Sunday', 'Monday', 'Tuesday', 'Wednesday', 'Thursday', 'Friday', 'Saturday']\n",
    "\n",
    "for divy in div.find_all('div'):\n",
    "    if any(any((x.string or '').startswith(y) for y in weekdays) for x in divy.children):\n",
    "        print(divy.contents[0].split('day, ')[1])"
   ]
  },
  {
   "cell_type": "code",
   "execution_count": 17,
   "metadata": {},
   "outputs": [],
   "source": [
    "div.find('div', string='Venue', recursive=True)"
   ]
  },
  {
   "cell_type": "code",
   "execution_count": 49,
   "metadata": {},
   "outputs": [
    {
     "data": {
      "text/plain": [
       "[<strong>Arizona Diamondbacks at Los Angeles Dodgers Box Score, March 28, 2019</strong>,\n",
       " <strong>\n",
       " <a href=\"/teams/ARI/2019.shtml\" itemprop=\"name\">Arizona Diamondbacks</a>\n",
       " </strong>,\n",
       " <strong>\n",
       " <a href=\"/teams/LAD/2019.shtml\" itemprop=\"name\">Los Angeles Dodgers</a>\n",
       " </strong>,\n",
       " <strong>Attendance</strong>,\n",
       " <strong>Venue</strong>,\n",
       " <strong>Game Duration</strong>,\n",
       " <strong>Arizona Diamondbacks at Los Angeles Dodgers Box Score, March 28, 2019</strong>,\n",
       " <strong>NL East</strong>,\n",
       " <strong>NL Central</strong>,\n",
       " <strong>NL West</strong>,\n",
       " <strong>AL East</strong>,\n",
       " <strong>AL Central</strong>,\n",
       " <strong>AL West</strong>,\n",
       " <strong>Site Last Updated:</strong>]"
      ]
     },
     "execution_count": 49,
     "metadata": {},
     "output_type": "execute_result"
    }
   ],
   "source": [
    "[x for x in soup.find_all('strong', recursive=True)]"
   ]
  },
  {
   "cell_type": "code",
   "execution_count": 90,
   "metadata": {},
   "outputs": [],
   "source": [
    "soup.find(id='ArizonaDiamondbacksbatting')"
   ]
  },
  {
   "cell_type": "code",
   "execution_count": 131,
   "metadata": {},
   "outputs": [],
   "source": [
    "home_comment = comment[[i for i, com in enumerate(comment)if 'div_1954100963' in com][0]]"
   ]
  },
  {
   "cell_type": "code",
   "execution_count": 132,
   "metadata": {},
   "outputs": [],
   "source": [
    "from bs4 import Comment\n",
    "\n",
    "comment = soup.find_all(text=lambda text:isinstance(text, Comment))\n",
    "commentsoup = BeautifulSoup(home_comment, 'html.parser')"
   ]
  },
  {
   "cell_type": "code",
   "execution_count": 129,
   "metadata": {},
   "outputs": [
    {
     "data": {
      "text/plain": [
       "[('IP', 3.2),\n",
       " ('H', 7.0),\n",
       " ('R', 7.0),\n",
       " ('ER', 7.0),\n",
       " ('BB', 2.0),\n",
       " ('SO', 3.0),\n",
       " ('HR', 4.0),\n",
       " ('earned_run_avg', 17.18),\n",
       " ('batters_faced', 20.0),\n",
       " ('pitches', 82.0),\n",
       " ('strikes_total', 52.0),\n",
       " ('strikes_contact', 35.0),\n",
       " ('strikes_swinging', 5.0),\n",
       " ('strikes_looking', 12.0),\n",
       " ('inplay_gb_total', 7.0),\n",
       " ('inplay_fb_total', 8.0),\n",
       " ('inplay_ld', 3.0),\n",
       " ('inplay_unk', 0.0),\n",
       " ('game_score', 20.0),\n",
       " ('wpa_def', -0.288),\n",
       " ('leverage_index_avg', 0.71),\n",
       " ('re24_def', -5.1)]"
      ]
     },
     "execution_count": 129,
     "metadata": {},
     "output_type": "execute_result"
    }
   ],
   "source": [
    "[(stat.attrs['data-stat'], float(stat.contents[0])) for stat in commentsoup.find(id='ArizonaDiamondbackspitching').find('tbody').find('tr').find_all('td') if stat.attrs['data-stat'] not in ['inherited_runners', 'inherited_score']]"
   ]
  },
  {
   "cell_type": "code",
   "execution_count": 125,
   "metadata": {},
   "outputs": [
    {
     "data": {
      "text/plain": [
       "[<td class=\"right endpoint\" data-endpoint=\"/play-index/pe.cgi?html=1&amp;game-id=LAN201903280-greinza01\" data-stat=\"IP\"> 3.2</td>,\n",
       " <td class=\"right \" data-stat=\"H\">7</td>,\n",
       " <td class=\"right \" data-stat=\"R\">7</td>,\n",
       " <td class=\"right \" data-stat=\"ER\">7</td>,\n",
       " <td class=\"right \" data-stat=\"BB\">2</td>,\n",
       " <td class=\"right \" data-stat=\"SO\">3</td>,\n",
       " <td class=\"right \" data-stat=\"HR\">4</td>,\n",
       " <td class=\"right \" data-stat=\"earned_run_avg\">17.18</td>,\n",
       " <td class=\"right \" data-stat=\"batters_faced\">20</td>,\n",
       " <td class=\"right \" data-stat=\"pitches\">82</td>,\n",
       " <td class=\"right \" data-stat=\"strikes_total\">52</td>,\n",
       " <td class=\"right \" data-stat=\"strikes_contact\">35</td>,\n",
       " <td class=\"right \" data-stat=\"strikes_swinging\">5</td>,\n",
       " <td class=\"right \" data-stat=\"strikes_looking\">12</td>,\n",
       " <td class=\"right \" data-stat=\"inplay_gb_total\">7</td>,\n",
       " <td class=\"right \" data-stat=\"inplay_fb_total\">8</td>,\n",
       " <td class=\"right \" data-stat=\"inplay_ld\">3</td>,\n",
       " <td class=\"right iz\" data-stat=\"inplay_unk\">0</td>,\n",
       " <td class=\"right \" data-stat=\"game_score\">20</td>,\n",
       " <td class=\"right iz\" data-stat=\"inherited_runners\"></td>,\n",
       " <td class=\"right iz\" data-stat=\"inherited_score\"></td>,\n",
       " <td class=\"right \" data-stat=\"wpa_def\">-0.288</td>,\n",
       " <td class=\"right \" data-stat=\"leverage_index_avg\"> 0.71</td>,\n",
       " <td class=\"right \" data-stat=\"re24_def\"> -5.1</td>]"
      ]
     },
     "execution_count": 125,
     "metadata": {},
     "output_type": "execute_result"
    }
   ],
   "source": [
    "commentsoup.find(id='ArizonaDiamondbackspitching').find('tbody').find('tr').find_all('td')"
   ]
  },
  {
   "cell_type": "code",
   "execution_count": 136,
   "metadata": {},
   "outputs": [
    {
     "data": {
      "text/plain": [
       "[False, False, False, False, True]"
      ]
     },
     "execution_count": 136,
     "metadata": {},
     "output_type": "execute_result"
    }
   ],
   "source": [
    "[any([(y.string or '').startswith('Start Time Weather') for y in x.children]) for x in commentsoup.find_all('div')]"
   ]
  },
  {
   "cell_type": "code",
   "execution_count": 154,
   "metadata": {},
   "outputs": [
    {
     "data": {
      "text/plain": [
       "<tr>\n",
       "<td class=\"center\">\n",
       "<div class=\"media-item logo loader\">\n",
       "<img alt=\"2019 Kansas City Royals Logo\" class=\"teamlogo\" itemscope=\"image\" src=\"https://d2p3bygnnzw9w3.cloudfront.net/req/201909273/tlogo/br/KCR-2019.png\"/>\n",
       "<p><a href=\"http://www.sportslogos.net/\">via Sports Logos.net</a></p>\n",
       "<p><a href=\"https://www.sports-reference.com/blog/2016/06/redesign-team-and-league-logos-courtesy-sportslogos-net/\">About logos</a></p>\n",
       "</div>\n",
       "</td>\n",
       "<td><a href=\"/teams/KCR/2019.shtml\">Kansas City Royals</a></td>\n",
       "<td class=\"center\">0</td>\n",
       "<td class=\"center\">0</td>\n",
       "<td class=\"center\">0</td>\n",
       "<td class=\"center\">1</td>\n",
       "<td class=\"center\">0</td>\n",
       "<td class=\"center\">2</td>\n",
       "<td class=\"center\">2</td>\n",
       "<td class=\"center\">0</td>\n",
       "<td class=\"center\">X</td>\n",
       "<td class=\"center\">5</td>\n",
       "<td class=\"center\">5</td>\n",
       "<td class=\"center\">0</td>\n",
       "</tr>"
      ]
     },
     "execution_count": 154,
     "metadata": {},
     "output_type": "execute_result"
    }
   ],
   "source": [
    "soup.find('table', class_='linescore nohover stats_table no_freeze').find('tbody').find('tr').find_next_sibling('tr')"
   ]
  },
  {
   "cell_type": "code",
   "execution_count": null,
   "metadata": {},
   "outputs": [],
   "source": []
  }
 ],
 "metadata": {
  "kernelspec": {
   "display_name": "Python 3",
   "language": "python",
   "name": "python3"
  },
  "language_info": {
   "codemirror_mode": {
    "name": "ipython",
    "version": 3
   },
   "file_extension": ".py",
   "mimetype": "text/x-python",
   "name": "python",
   "nbconvert_exporter": "python",
   "pygments_lexer": "ipython3",
   "version": "3.6.8"
  }
 },
 "nbformat": 4,
 "nbformat_minor": 2
}
