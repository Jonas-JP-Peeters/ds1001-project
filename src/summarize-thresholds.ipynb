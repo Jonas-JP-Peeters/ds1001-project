{
 "cells": [
  {
   "cell_type": "code",
   "execution_count": 1,
   "metadata": {},
   "outputs": [],
   "source": [
    "from sklearn.model_selection import RandomizedSearchCV\n",
    "from sklearn.ensemble import GradientBoostingClassifier\n",
    "from scipy.stats import randint as sp_randint\n",
    "import pickle\n",
    "import pandas as pd\n",
    "import numpy as np\n",
    "from sklearn.metrics import roc_curve\n",
    "from sklearn.metrics import auc\n",
    "import matplotlib.pyplot as plt\n",
    "%matplotlib inline\n",
    "\n",
    "np.random.seed(0)"
   ]
  },
  {
   "cell_type": "code",
   "execution_count": 2,
   "metadata": {},
   "outputs": [],
   "source": [
    "dfs = {}\n",
    "for file in ['../data/MovAve15_Data.csv', '../data/MovAve30_Data.csv',\n",
    "             '../data/MovAve60_Data.csv', '../data/MovAve90_Data.csv']:\n",
    "    dfs[file[14:16]] = pd.read_csv(file)"
   ]
  },
  {
   "cell_type": "code",
   "execution_count": 3,
   "metadata": {},
   "outputs": [],
   "source": [
    "class CustomKFold:\n",
    "    def __init__(self, n_splits=5):\n",
    "        self.n_splits = n_splits\n",
    "\n",
    "    def split(self, df, y, groups=None):\n",
    "        from sklearn.model_selection import StratifiedKFold\n",
    "        import numpy as np\n",
    "\n",
    "        sk = StratifiedKFold(random_state=0, n_splits=self.n_splits, shuffle=True)\n",
    "\n",
    "        train_all = df[df['year'] < 2019]\n",
    "\n",
    "        for train_idx, valid_idx in sk.split(np.zeros(train_all.shape[0]), train_all['year']):\n",
    "            yield (train_idx, valid_idx)\n",
    "\n",
    "    def get_n_splits(self, X, y, groups=None):\n",
    "        return self.n_splits"
   ]
  },
  {
   "cell_type": "code",
   "execution_count": 9,
   "metadata": {},
   "outputs": [
    {
     "name": "stdout",
     "output_type": "stream",
     "text": [
      "best estimator accuracy for 15: 0.4934\n",
      "best estimator accuracy for 30: 0.4959\n",
      "best estimator accuracy for 60: 0.5036\n",
      "best estimator accuracy for 90: 0.5154\n"
     ]
    }
   ],
   "source": [
    "preds = {}\n",
    "tests = {}\n",
    "\n",
    "for name, df in dfs.items():\n",
    "\n",
    "    train = df[df['year'] < 2019]\n",
    "    test = df[df['year'] == 2019]\n",
    "\n",
    "    x_train = train.drop(['Target_Var'], axis=1)\n",
    "    y_train = train['Target_Var']\n",
    "\n",
    "    x_test = test.drop(['Target_Var'], axis=1)\n",
    "    y_test = test['Target_Var']\n",
    "    \n",
    "    with open('../results/best_gb_model_{}.pckl'.format(name), 'rb') as f:\n",
    "        gb = pickle.load(f)\n",
    "    with open('../results/best_gb_model_cv_{}.pckl'.format(name), 'rb') as f:\n",
    "        gb_cv = pickle.load(f)\n",
    "    with open('../results/cols_{}.pckl'.format(name), 'rb') as f:\n",
    "        cols = pickle.load(f)\n",
    "    \n",
    "    accuracy = gb.score(x_test[cols], y_test)\n",
    "    print('best estimator accuracy for {}: {:.4f}'.format(name, accuracy))\n",
    "    preds[name] = gb.predict_proba(x_test[cols])[:,1]\n",
    "    tests[name] = y_test\n"
   ]
  },
  {
   "cell_type": "code",
   "execution_count": 10,
   "metadata": {},
   "outputs": [],
   "source": [
    "\n",
    "def check_accuracy_data(threshold, prediction, actual):\n",
    "    '''\n",
    "    This function will take two series of equal length and only calculate \n",
    "    accuracy for predictions that meet the threshold criteria. \n",
    "    '''\n",
    "    accuracies = []\n",
    "    my_list = []\n",
    "    for preds, truth in zip(prediction, actual):\n",
    "        if preds >= threshold:\n",
    "            accuracies.append(1 == truth)\n",
    "        elif preds <= (1-threshold):\n",
    "            accuracies.append(0 == truth)\n",
    "        else:\n",
    "            continue\n",
    "    if len(accuracies) == 0:\n",
    "        accuracy = None\n",
    "        subsample_percent = 0\n",
    "    else:\n",
    "        accuracy = accuracies.count(True)/len(accuracies)\n",
    "        subsample_percent = len(accuracies)/len(prediction)\n",
    "    return [threshold, accuracy, subsample_percent]\n",
    "\n",
    "\n",
    "'''\n",
    "For the below, update predictions list to be your list of predict probas in\n",
    "15,30,60,90 order and same for tests list being actual outcomes. \n",
    "Change 'your_model_type' (2 serperate inputs) below to some 2-4 character string\n",
    "that describes your model. (RF, NN, GB, LR, etc etc)\n",
    "Please push csv to git once complete.\n",
    "'''\n",
    "thresholds = [.52, .54, .55, .56]\n",
    "predictions = [preds['15'], preds['30'], preds['60'], preds['90']]\n",
    "tests = [tests['15'], tests['30'], tests['60'], tests['90']]\n",
    "mov_avs = [15,30,60,90]\n",
    "lists_ = []\n",
    "for p, a, m in zip(predictions, tests, mov_avs):\n",
    "    for t in thresholds:\n",
    "        lists_.append(check_accuracy_data(t, p, a) + [m, 'GB'])\n",
    "        \n",
    "df = pd.DataFrame(lists_)\n",
    "df.columns = ['Threshold', 'Accuracy', 'Percent_of_Samples', 'Dataset', 'Model']\n",
    "\n",
    "# Save file with your model name \n",
    "df.to_csv('../data/accuracy_dataframe_gb.csv')\n"
   ]
  },
  {
   "cell_type": "code",
   "execution_count": 13,
   "metadata": {},
   "outputs": [
    {
     "name": "stdout",
     "output_type": "stream",
     "text": [
      ",Threshold,Accuracy,Percent_of_Samples,Dataset,Model\r\n",
      "0,0.52,0.4935064935064935,0.8450395083406497,15,GB\r\n",
      "1,0.54,0.5003317850033179,0.6615452151009658,15,GB\r\n",
      "2,0.55,0.5007564296520424,0.5803336259877085,15,GB\r\n",
      "3,0.56,0.5056374674761491,0.5061457418788411,15,GB\r\n",
      "4,0.52,0.4925925925925926,0.7303877366997295,30,GB\r\n",
      "5,0.54,0.5064695009242144,0.4878268710550045,30,GB\r\n",
      "6,0.55,0.49655963302752293,0.3931469792605951,30,GB\r\n",
      "7,0.56,0.49850746268656715,0.30207394048692515,30,GB\r\n",
      "8,0.52,0.49468462083628634,0.6786916786916787,60,GB\r\n",
      "9,0.54,0.4874715261958998,0.4223184223184223,60,GB\r\n",
      "10,0.55,0.49544072948328266,0.3164983164983165,60,GB\r\n",
      "11,0.56,0.4939759036144578,0.23953823953823955,60,GB\r\n",
      "12,0.52,0.5218487394957984,0.6201146430432517,90,GB\r\n",
      "13,0.54,0.4966887417218543,0.31474726420010424,90,GB\r\n",
      "14,0.55,0.5097560975609756,0.2136529442417926,90,GB\r\n",
      "15,0.56,0.49825783972125437,0.1495570609692548,90,GB\r\n"
     ]
    }
   ],
   "source": [
    "!head ../data/accuracy_dataframe_gb.csv -n 20"
   ]
  },
  {
   "cell_type": "code",
   "execution_count": null,
   "metadata": {},
   "outputs": [],
   "source": []
  }
 ],
 "metadata": {
  "kernelspec": {
   "display_name": "Python 3",
   "language": "python",
   "name": "python3"
  },
  "language_info": {
   "codemirror_mode": {
    "name": "ipython",
    "version": 3
   },
   "file_extension": ".py",
   "mimetype": "text/x-python",
   "name": "python",
   "nbconvert_exporter": "python",
   "pygments_lexer": "ipython3",
   "version": "3.6.8"
  }
 },
 "nbformat": 4,
 "nbformat_minor": 2
}
