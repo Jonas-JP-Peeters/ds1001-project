{
 "cells": [
  {
   "cell_type": "code",
   "execution_count": 1,
   "metadata": {},
   "outputs": [],
   "source": [
    "from sklearn.model_selection import RandomizedSearchCV\n",
    "from sklearn.linear_model import LogisticRegression, Lasso\n",
    "from scipy.stats import randint as sp_randint\n",
    "import pickle\n",
    "import pandas as pd\n",
    "import numpy as np\n",
    "from sklearn.metrics import roc_curve\n",
    "from sklearn.metrics import auc\n",
    "import matplotlib.pyplot as plt\n",
    "from scipy.stats import expon\n",
    "from sklearn.preprocessing import MinMaxScaler\n",
    "%matplotlib inline\n",
    "\n",
    "np.random.seed(0)"
   ]
  },
  {
   "cell_type": "code",
   "execution_count": 2,
   "metadata": {},
   "outputs": [],
   "source": [
    "dfs = {}\n",
    "for file in ['../data/MovAve15_Data.csv', '../data/MovAve30_Data.csv',\n",
    "             '../data/MovAve60_Data.csv', '../data/MovAve90_Data.csv']:\n",
    "    dfs[file[14:16]] = pd.read_csv(file)"
   ]
  },
  {
   "cell_type": "code",
   "execution_count": 3,
   "metadata": {},
   "outputs": [],
   "source": [
    "class KFold_Scaled:\n",
    "    def __init__(self, n_splits=5):\n",
    "        self.n_splits = n_splits\n",
    "\n",
    "    def split(self, df, y, groups=None):\n",
    "        from sklearn.model_selection import StratifiedKFold\n",
    "        from sklearn.preprocessing import LabelEncoder\n",
    "        import numpy as np\n",
    "\n",
    "        sk = StratifiedKFold(random_state=0, n_splits=self.n_splits, shuffle=True)\n",
    "\n",
    "        train_all = df[df['year'] < 1]\n",
    "\n",
    "        for train_idx, valid_idx in sk.split(np.zeros(train_all.shape[0]),\n",
    "                                             LabelEncoder().fit_transform(df['year'])):\n",
    "            yield (train_idx, valid_idx)\n",
    "\n",
    "    def get_n_splits(self, X, y, groups=None):\n",
    "        return self.n_splits"
   ]
  },
  {
   "cell_type": "code",
   "execution_count": 4,
   "metadata": {},
   "outputs": [],
   "source": [
    "class CustomKFold:\n",
    "    def __init__(self, n_splits=5):\n",
    "        self.n_splits = n_splits\n",
    "\n",
    "    def split(self, df, y, groups=None):\n",
    "        from sklearn.model_selection import StratifiedKFold\n",
    "        import numpy as np\n",
    "\n",
    "        sk = StratifiedKFold(random_state=0, n_splits=self.n_splits, shuffle=True)\n",
    "\n",
    "        train_all = df[df['year'] < 2019]\n",
    "\n",
    "        for train_idx, valid_idx in sk.split(np.zeros(train_all.shape[0]), train_all['year']):\n",
    "            yield (train_idx, valid_idx)\n",
    "\n",
    "    def get_n_splits(self, X, y, groups=None):\n",
    "        return self.n_splits"
   ]
  },
  {
   "cell_type": "code",
   "execution_count": 5,
   "metadata": {},
   "outputs": [
    {
     "name": "stderr",
     "output_type": "stream",
     "text": [
      "/home/gpt/.local/lib/python3.6/site-packages/sklearn/utils/validation.py:475: DataConversionWarning: Data with input dtype int64 was converted to float64 by MinMaxScaler.\n",
      "  warnings.warn(msg, DataConversionWarning)\n"
     ]
    },
    {
     "name": "stdout",
     "output_type": "stream",
     "text": [
      "best estimator accuracy for 15: 0.5136\n",
      "best estimator accuracy for 30: 0.5153\n",
      "best estimator accuracy for 60: 0.5171\n",
      "best estimator accuracy for 90: 0.4966\n"
     ]
    },
    {
     "data": {
      "image/png": "[encoded data removed]",
      "text/plain": [
       "<Figure size 432x288 with 1 Axes>"
      ]
     },
     "metadata": {},
     "output_type": "display_data"
    }
   ],
   "source": [
    "colors = {'15': 'r',\n",
    "          '30': 'g',\n",
    "          '60': 'y',\n",
    "          '90': 'b',\n",
    "          }\n",
    "\n",
    "for name, df in dfs.items():\n",
    "    \n",
    "    data_scaled = df.copy()\n",
    "    scalers = {}\n",
    "\n",
    "    for col in df:\n",
    "        if df[col].nunique() > 2:\n",
    "            scalers[col] = MinMaxScaler((-1, 1))\n",
    "            data_scaled[col] = scalers[col].fit_transform(df[col].values.reshape(-1, 1))\n",
    "\n",
    "    train = data_scaled[data_scaled['year'] < 1]\n",
    "    test = data_scaled[data_scaled['year'] == 1]\n",
    "\n",
    "    x_train = train.drop(['Target_Var'], axis=1)\n",
    "    y_train = train['Target_Var']\n",
    "\n",
    "    x_test = test.drop(['Target_Var'], axis=1)\n",
    "    y_test = test['Target_Var']\n",
    "    \n",
    "    with open('best_lr_model_{}.pckl'.format(name), 'rb') as f:\n",
    "        lr = pickle.load(f)\n",
    "    with open('best_lr_model_cv_{}.pckl'.format(name), 'rb') as f:\n",
    "        lr_cv = pickle.load(f)\n",
    "    \n",
    "    accuracy = lr.score(x_test, y_test)\n",
    "    print('best estimator accuracy for {}: {:.4f}'.format(name, accuracy))\n",
    "    fpr, tpr, thresholds = roc_curve(y_test, lr.predict_proba(x_test)[:,1])\n",
    "    best_auc = auc(fpr, tpr)\n",
    "\n",
    "    plt.plot(fpr, tpr, colors[name], lw=1, label='AUC: {:.3f}, Acc: {:.3f}'.format(best_auc, accuracy))\n",
    "    \n",
    "plt.plot([0, 1], [0, 1], 'k--')\n",
    "plt.legend(loc='lower right')\n",
    "plt.xlabel('False Positive Rate')\n",
    "plt.ylabel('True Positive Rate')\n",
    "plt.title('Cross-dataset comparison of best LR models')\n",
    "\n",
    "plt.xlim((0,1))\n",
    "plt.ylim((0,1))\n",
    "plt.savefig('lr-comparison-datasets.png')\n"
   ]
  },
  {
   "cell_type": "code",
   "execution_count": 6,
   "metadata": {},
   "outputs": [
    {
     "name": "stdout",
     "output_type": "stream",
     "text": [
      "Fitting 5 folds for each of 10 candidates, totalling 50 fits\n"
     ]
    },
    {
     "name": "stderr",
     "output_type": "stream",
     "text": [
      "[Parallel(n_jobs=-1)]: Done  42 tasks      | elapsed:  3.1min\n",
      "[Parallel(n_jobs=-1)]: Done  50 out of  50 | elapsed:  3.6min finished\n"
     ]
    },
    {
     "name": "stdout",
     "output_type": "stream",
     "text": [
      "best unscaled estimator accuracy for 15: 0.5154\n"
     ]
    },
    {
     "name": "stderr",
     "output_type": "stream",
     "text": [
      "/home/gpt/.local/lib/python3.6/site-packages/sklearn/utils/validation.py:475: DataConversionWarning: Data with input dtype int64 was converted to float64 by MinMaxScaler.\n",
      "  warnings.warn(msg, DataConversionWarning)\n"
     ]
    },
    {
     "name": "stdout",
     "output_type": "stream",
     "text": [
      "Fitting 5 folds for each of 10 candidates, totalling 50 fits\n"
     ]
    },
    {
     "name": "stderr",
     "output_type": "stream",
     "text": [
      "[Parallel(n_jobs=-1)]: Done  42 tasks      | elapsed:   58.6s\n",
      "[Parallel(n_jobs=-1)]: Done  50 out of  50 | elapsed:  1.1min finished\n"
     ]
    },
    {
     "name": "stdout",
     "output_type": "stream",
     "text": [
      "best scaled estimator accuracy for 15: 0.5162\n"
     ]
    },
    {
     "data": {
      "image/png": "[encoded data removed]",
      "text/plain": [
       "<Figure size 432x288 with 1 Axes>"
      ]
     },
     "metadata": {},
     "output_type": "display_data"
    }
   ],
   "source": [
    "for name, df in dfs.items():\n",
    "    if name != '15':\n",
    "        continue\n",
    "    \n",
    "    train = df[df['year'] < 2019]\n",
    "    test = df[df['year'] == 2019]\n",
    "\n",
    "    x_train = train.drop(['Target_Var'], axis=1)\n",
    "    y_train = train['Target_Var']\n",
    "\n",
    "    x_test = test.drop(['Target_Var'], axis=1)\n",
    "    y_test = test['Target_Var']\n",
    "\n",
    "    lr = LogisticRegression(random_state=0,\n",
    "                            solver='liblinear',\n",
    "                            )\n",
    "\n",
    "    params_lr = {'C': expon(scale=1),\n",
    "                 }\n",
    "\n",
    "    lr_cv = RandomizedSearchCV(lr,\n",
    "                               params_lr,\n",
    "                               n_iter=10,\n",
    "                               cv=CustomKFold(),\n",
    "                               scoring='roc_auc',\n",
    "                               random_state=0,\n",
    "                               n_jobs=-1,\n",
    "                               verbose=1,\n",
    "                               )\n",
    "\n",
    "    lr_cv.fit(x_train, y_train)\n",
    "\n",
    "    accuracy = lr_cv.best_estimator_.score(x_test, y_test)\n",
    "    print('best unscaled estimator accuracy for {}: {:.4f}'.format(name, accuracy))\n",
    "    fpr, tpr, thresholds = roc_curve(y_test, lr_cv.best_estimator_.predict_proba(x_test)[:,1])\n",
    "    best_auc = auc(fpr, tpr)\n",
    "\n",
    "   \n",
    "    plt.plot(fpr, tpr, 'r', label='Unscaled AUC: {:.3f}'.format(best_auc))\n",
    "    \n",
    "    data_scaled = df.copy()\n",
    "    scalers = {}\n",
    "\n",
    "    for col in df:\n",
    "        if df[col].nunique() > 2:\n",
    "            scalers[col] = MinMaxScaler((-1, 1))\n",
    "            data_scaled[col] = scalers[col].fit_transform(df[col].values.reshape(-1, 1))\n",
    "\n",
    "    train = data_scaled[data_scaled['year'] < 1]\n",
    "    test = data_scaled[data_scaled['year'] == 1]\n",
    "\n",
    "    x_train = train.drop(['Target_Var'], axis=1)\n",
    "    y_train = train['Target_Var']\n",
    "\n",
    "    x_test = test.drop(['Target_Var'], axis=1)\n",
    "    y_test = test['Target_Var']\n",
    "\n",
    "    lr = LogisticRegression(random_state=0,\n",
    "                            solver='liblinear',\n",
    "                            )\n",
    "\n",
    "    params_lr = {'C': expon(scale=1),\n",
    "                 }\n",
    "\n",
    "    lr_cv = RandomizedSearchCV(lr,\n",
    "                               params_lr,\n",
    "                               n_iter=10,\n",
    "                               cv=KFold_Scaled(),\n",
    "                               scoring='roc_auc',\n",
    "                               random_state=0,\n",
    "                               n_jobs=-1,\n",
    "                               verbose=1,\n",
    "                               )\n",
    "\n",
    "    lr_cv.fit(x_train, y_train)\n",
    "\n",
    "    accuracy = lr_cv.best_estimator_.score(x_test, y_test)\n",
    "    print('best scaled estimator accuracy for {}: {:.4f}'.format(name, accuracy))\n",
    "    fpr, tpr, thresholds = roc_curve(y_test, lr_cv.best_estimator_.predict_proba(x_test)[:,1])\n",
    "    best_auc = auc(fpr, tpr)\n",
    "\n",
    "   \n",
    "    plt.plot(fpr, tpr, 'b', label='Scaled AUC: {:.3f}'.format(best_auc))\n",
    "    plt.plot([0, 1], [0, 1], 'k--')\n",
    "    plt.xlim([0, 1])\n",
    "    plt.ylim([0, 1])\n",
    "    plt.xlabel('False Positive Rate')\n",
    "    plt.ylabel('True Positive Rate')\n",
    "    plt.title('Scaled vs unscaled AUC comparison for LR')\n",
    "    plt.legend(loc='lower right')\n",
    "    plt.savefig('unscaled-scaled-comparison-lr.png')\n",
    "    plt.show()"
   ]
  },
  {
   "cell_type": "code",
   "execution_count": null,
   "metadata": {},
   "outputs": [],
   "source": []
  }
 ],
 "metadata": {
  "kernelspec": {
   "display_name": "Python 3",
   "language": "python",
   "name": "python3"
  },
  "language_info": {
   "codemirror_mode": {
    "name": "ipython",
    "version": 3
   },
   "file_extension": ".py",
   "mimetype": "text/x-python",
   "name": "python",
   "nbconvert_exporter": "python",
   "pygments_lexer": "ipython3",
   "version": "3.6.8"
  }
 },
 "nbformat": 4,
 "nbformat_minor": 2
}
