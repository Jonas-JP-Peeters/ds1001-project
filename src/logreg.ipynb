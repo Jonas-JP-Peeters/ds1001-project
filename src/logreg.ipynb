{
 "cells": [
  {
   "cell_type": "code",
   "execution_count": 1,
   "metadata": {},
   "outputs": [],
   "source": [
    "from sklearn.model_selection import RandomizedSearchCV\n",
    "from sklearn.linear_model import LogisticRegression, Lasso\n",
    "from scipy.stats import randint as sp_randint\n",
    "import pickle\n",
    "import pandas as pd\n",
    "import numpy as np\n",
    "from sklearn.metrics import roc_curve\n",
    "from sklearn.metrics import auc\n",
    "import matplotlib.pyplot as plt\n",
    "from scipy.stats import expon\n",
    "from sklearn.preprocessing import MinMaxScaler\n",
    "%matplotlib inline\n",
    "\n",
    "np.random.seed(0)"
   ]
  },
  {
   "cell_type": "code",
   "execution_count": 2,
   "metadata": {},
   "outputs": [],
   "source": [
    "dfs = {}\n",
    "for file in ['../data/MovAve15_Data.csv', '../data/MovAve30_Data.csv',\n",
    "             '../data/MovAve60_Data.csv', '../data/MovAve90_Data.csv']:\n",
    "    dfs[file[14:16]] = pd.read_csv(file)"
   ]
  },
  {
   "cell_type": "code",
   "execution_count": 3,
   "metadata": {},
   "outputs": [],
   "source": [
    "#for df in dfs.values():\n",
    "#    df.drop(['elo_home', 'elo_away'], axis=1, inplace=True)"
   ]
  },
  {
   "cell_type": "code",
   "execution_count": 4,
   "metadata": {},
   "outputs": [],
   "source": [
    "class KFold_Scaled:\n",
    "    def __init__(self, n_splits=5):\n",
    "        self.n_splits = n_splits\n",
    "\n",
    "    def split(self, df, y, groups=None):\n",
    "        from sklearn.model_selection import StratifiedKFold\n",
    "        from sklearn.preprocessing import LabelEncoder\n",
    "        import numpy as np\n",
    "\n",
    "        sk = StratifiedKFold(random_state=0, n_splits=self.n_splits, shuffle=True)\n",
    "\n",
    "        train_all = df[df['year'] < 1]\n",
    "\n",
    "        for train_idx, valid_idx in sk.split(np.zeros(train_all.shape[0]),\n",
    "                                             LabelEncoder().fit_transform(df['year'])):\n",
    "            yield (train_idx, valid_idx)\n",
    "\n",
    "    def get_n_splits(self, X, y, groups=None):\n",
    "        return self.n_splits"
   ]
  },
  {
   "cell_type": "code",
   "execution_count": 5,
   "metadata": {},
   "outputs": [],
   "source": [
    "class CustomKFold:\n",
    "    def __init__(self, n_splits=5):\n",
    "        self.n_splits = n_splits\n",
    "\n",
    "    def split(self, df, y, groups=None):\n",
    "        from sklearn.model_selection import StratifiedKFold\n",
    "        import numpy as np\n",
    "\n",
    "        sk = StratifiedKFold(random_state=0, n_splits=self.n_splits, shuffle=True)\n",
    "\n",
    "        train_all = df[df['year'] < 2019]\n",
    "\n",
    "        for train_idx, valid_idx in sk.split(np.zeros(train_all.shape[0]), train_all['year']):\n",
    "            yield (train_idx, valid_idx)\n",
    "\n",
    "    def get_n_splits(self, X, y, groups=None):\n",
    "        return self.n_splits\n",
    "\n",
    "# cross_validate_by_year(your_classifier_with_parameters_set, df) \n",
    "        \n",
    "# after you're done modeling and have the `best_estimator`, uncomment the following lines and run them\n",
    "# best_predictions = best_estimator.predict_proba(test.drop('Target_Var', axis=1))\n",
    "# test_actuals = test['Target_Var']\n",
    "\n",
    "# compare the `test_actuals` with the `best_predictions`\n",
    "\n",
    "# with open('best_estimator_{}'.format(moving_average_setting), 'wb') as f:\n",
    "#     pickle.dump(best_estimator, f, protocol=-1)"
   ]
  },
  {
   "cell_type": "code",
   "execution_count": 6,
   "metadata": {
    "scrolled": false
   },
   "outputs": [
    {
     "name": "stderr",
     "output_type": "stream",
     "text": [
      "/home/gpt/.local/lib/python3.6/site-packages/sklearn/utils/validation.py:475: DataConversionWarning: Data with input dtype int64 was converted to float64 by MinMaxScaler.\n",
      "  warnings.warn(msg, DataConversionWarning)\n"
     ]
    },
    {
     "name": "stdout",
     "output_type": "stream",
     "text": [
      "Fitting 5 folds for each of 100 candidates, totalling 500 fits\n"
     ]
    },
    {
     "name": "stderr",
     "output_type": "stream",
     "text": [
      "[Parallel(n_jobs=-1)]: Done  42 tasks      | elapsed:   50.3s\n",
      "[Parallel(n_jobs=-1)]: Done 192 tasks      | elapsed:  3.4min\n",
      "[Parallel(n_jobs=-1)]: Done 442 tasks      | elapsed:  7.1min\n",
      "[Parallel(n_jobs=-1)]: Done 500 out of 500 | elapsed:  7.9min finished\n"
     ]
    },
    {
     "name": "stdout",
     "output_type": "stream",
     "text": [
      "best estimator accuracy for 15: 0.5119\n",
      "[5]\n"
     ]
    },
    {
     "data": {
      "image/png": "[encoded data removed]",
      "text/plain": [
       "<Figure size 432x288 with 1 Axes>"
      ]
     },
     "metadata": {},
     "output_type": "display_data"
    },
    {
     "name": "stderr",
     "output_type": "stream",
     "text": [
      "/home/gpt/.local/lib/python3.6/site-packages/sklearn/utils/validation.py:475: DataConversionWarning: Data with input dtype int64 was converted to float64 by MinMaxScaler.\n",
      "  warnings.warn(msg, DataConversionWarning)\n"
     ]
    },
    {
     "name": "stdout",
     "output_type": "stream",
     "text": [
      "Fitting 5 folds for each of 100 candidates, totalling 500 fits\n"
     ]
    },
    {
     "name": "stderr",
     "output_type": "stream",
     "text": [
      "[Parallel(n_jobs=-1)]: Done  42 tasks      | elapsed:   49.3s\n",
      "[Parallel(n_jobs=-1)]: Done 192 tasks      | elapsed:  3.4min\n",
      "[Parallel(n_jobs=-1)]: Done 442 tasks      | elapsed:  7.0min\n",
      "[Parallel(n_jobs=-1)]: Done 500 out of 500 | elapsed:  7.9min finished\n"
     ]
    },
    {
     "name": "stdout",
     "output_type": "stream",
     "text": [
      "best estimator accuracy for 30: 0.5225\n",
      "[5]\n"
     ]
    },
    {
     "data": {
      "image/png": "[encoded data removed]",
      "text/plain": [
       "<Figure size 432x288 with 1 Axes>"
      ]
     },
     "metadata": {},
     "output_type": "display_data"
    },
    {
     "name": "stderr",
     "output_type": "stream",
     "text": [
      "/home/gpt/.local/lib/python3.6/site-packages/sklearn/utils/validation.py:475: DataConversionWarning: Data with input dtype int64 was converted to float64 by MinMaxScaler.\n",
      "  warnings.warn(msg, DataConversionWarning)\n"
     ]
    },
    {
     "name": "stdout",
     "output_type": "stream",
     "text": [
      "Fitting 5 folds for each of 100 candidates, totalling 500 fits\n"
     ]
    },
    {
     "name": "stderr",
     "output_type": "stream",
     "text": [
      "[Parallel(n_jobs=-1)]: Done  42 tasks      | elapsed:   49.1s\n",
      "[Parallel(n_jobs=-1)]: Done 192 tasks      | elapsed:  3.4min\n",
      "[Parallel(n_jobs=-1)]: Done 442 tasks      | elapsed:  7.1min\n",
      "[Parallel(n_jobs=-1)]: Done 500 out of 500 | elapsed:  8.0min finished\n"
     ]
    },
    {
     "name": "stdout",
     "output_type": "stream",
     "text": [
      "best estimator accuracy for 60: 0.5176\n",
      "[5]\n"
     ]
    },
    {
     "data": {
      "image/png": "[encoded data removed]",
      "text/plain": [
       "<Figure size 432x288 with 1 Axes>"
      ]
     },
     "metadata": {},
     "output_type": "display_data"
    },
    {
     "name": "stderr",
     "output_type": "stream",
     "text": [
      "/home/gpt/.local/lib/python3.6/site-packages/sklearn/utils/validation.py:475: DataConversionWarning: Data with input dtype int64 was converted to float64 by MinMaxScaler.\n",
      "  warnings.warn(msg, DataConversionWarning)\n"
     ]
    },
    {
     "name": "stdout",
     "output_type": "stream",
     "text": [
      "Fitting 5 folds for each of 100 candidates, totalling 500 fits\n"
     ]
    },
    {
     "name": "stderr",
     "output_type": "stream",
     "text": [
      "[Parallel(n_jobs=-1)]: Done  42 tasks      | elapsed:   48.2s\n",
      "[Parallel(n_jobs=-1)]: Done 192 tasks      | elapsed:  3.8min\n",
      "[Parallel(n_jobs=-1)]: Done 442 tasks      | elapsed:  7.8min\n",
      "[Parallel(n_jobs=-1)]: Done 500 out of 500 | elapsed:  8.7min finished\n"
     ]
    },
    {
     "name": "stdout",
     "output_type": "stream",
     "text": [
      "best estimator accuracy for 90: 0.4987\n",
      "[5]\n"
     ]
    },
    {
     "data": {
      "image/png": "[encoded data removed]",
      "text/plain": [
       "<Figure size 432x288 with 1 Axes>"
      ]
     },
     "metadata": {},
     "output_type": "display_data"
    }
   ],
   "source": [
    "for name, df in dfs.items():\n",
    "    \n",
    "    data_scaled = df.copy()\n",
    "    scalers = {}\n",
    "\n",
    "    for col in df:\n",
    "        if df[col].nunique() > 2:\n",
    "            scalers[col] = MinMaxScaler((-1, 1))\n",
    "            data_scaled[col] = scalers[col].fit_transform(df[col].values.reshape(-1, 1))\n",
    "\n",
    "    train = data_scaled[data_scaled['year'] < 1]\n",
    "    test = data_scaled[data_scaled['year'] == 1]\n",
    "\n",
    "    x_train = train.drop(['Target_Var'], axis=1)\n",
    "    y_train = train['Target_Var']\n",
    "\n",
    "    x_test = test.drop(['Target_Var'], axis=1)\n",
    "    y_test = test['Target_Var']\n",
    "\n",
    "    lr = LogisticRegression(random_state=0,\n",
    "                            solver='liblinear',\n",
    "                            )\n",
    "\n",
    "    params_lr = {'C': expon(scale=1),\n",
    "                 }\n",
    "\n",
    "    lr_cv = RandomizedSearchCV(lr,\n",
    "                               params_lr,\n",
    "                               n_iter=100,\n",
    "                               cv=KFold_Scaled(),\n",
    "                               #scoring='roc_auc',\n",
    "                               random_state=0,\n",
    "                               n_jobs=-1,\n",
    "                               verbose=1,\n",
    "                               )\n",
    "\n",
    "    lr_cv.fit(x_train, y_train)\n",
    "\n",
    "    print('best estimator accuracy for {}: {:.4f}'.format(name, lr_cv.best_estimator_.score(x_test, y_test)))\n",
    "    print(lr_cv.best_estimator_.n_iter_)\n",
    "    fpr, tpr, thresholds = roc_curve(y_test, lr_cv.best_estimator_.predict_proba(x_test)[:,1])\n",
    "    best_auc = auc(fpr, tpr)\n",
    "\n",
    "    plt.plot([0, 1], [0, 1], 'k--')\n",
    "    plt.plot(fpr, tpr, 'r', label='AUC: {:.3f}'.format(best_auc))\n",
    "    plt.legend(loc='lower right')\n",
    "    plt.show()\n",
    "\n",
    "    with open('best_lr_model_acc_{}.pckl'.format(name), 'wb') as f:\n",
    "        pickle.dump(lr_cv.best_estimator_, f)\n",
    "    with open('best_lr_model_cv_acc_{}.pckl'.format(name), 'wb') as f:\n",
    "        pickle.dump(lr_cv, f)"
   ]
  },
  {
   "cell_type": "code",
   "execution_count": 36,
   "metadata": {},
   "outputs": [
    {
     "data": {
      "text/plain": [
       "[]"
      ]
     },
     "execution_count": 36,
     "metadata": {},
     "output_type": "execute_result"
    }
   ],
   "source": [
    "lasso = Lasso(random_state=0)\n",
    "lasso.fit(x_train, y_train)\n",
    "[x for x in zip(lasso.coef_, x_train.columns) if x[0] > 0]"
   ]
  },
  {
   "cell_type": "code",
   "execution_count": 32,
   "metadata": {},
   "outputs": [
    {
     "data": {
      "text/plain": [
       "-0.0008049428455603191"
      ]
     },
     "execution_count": 32,
     "metadata": {},
     "output_type": "execute_result"
    }
   ],
   "source": [
    "lasso.score(x_test, y_test)"
   ]
  },
  {
   "cell_type": "code",
   "execution_count": null,
   "metadata": {},
   "outputs": [],
   "source": []
  }
 ],
 "metadata": {
  "kernelspec": {
   "display_name": "Python 3",
   "language": "python",
   "name": "python3"
  },
  "language_info": {
   "codemirror_mode": {
    "name": "ipython",
    "version": 3
   },
   "file_extension": ".py",
   "mimetype": "text/x-python",
   "name": "python",
   "nbconvert_exporter": "python",
   "pygments_lexer": "ipython3",
   "version": "3.6.8"
  }
 },
 "nbformat": 4,
 "nbformat_minor": 2
}
