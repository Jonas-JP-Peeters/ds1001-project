{
 "cells": [
  {
   "cell_type": "code",
   "execution_count": 2,
   "metadata": {},
   "outputs": [],
   "source": [
    "import pandas as pd\n",
    "import numpy as np\n",
    "import math \n",
    "from sklearn import preprocessing\n",
    "import os \n",
    "import matplotlib.pyplot as plt\n",
    "from sklearn.metrics import roc_auc_score\n",
    "from sklearn.ensemble import RandomForestClassifier"
   ]
  },
  {
   "cell_type": "code",
   "execution_count": 7,
   "metadata": {},
   "outputs": [
    {
     "name": "stderr",
     "output_type": "stream",
     "text": [
      "/home/gpt/.local/lib/python3.6/site-packages/sklearn/ensemble/forest.py:245: FutureWarning: The default value of n_estimators will change from 10 in version 0.20 to 100 in 0.22.\n",
      "  \"10 in version 0.20 to 100 in 0.22.\", FutureWarning)\n"
     ]
    },
    {
     "name": "stdout",
     "output_type": "stream",
     "text": [
      "Accuracy: 0.520\n",
      "AUC: 0.516\n"
     ]
    }
   ],
   "source": [
    "df_15 = pd.read_csv('../data/MovAve15_Data.csv')\n",
    "\n",
    "# Split into train and test sets by year\n",
    "train = df_15[df_15['year'] != 2019]\n",
    "test = df_15[df_15['year'] == 2019]\n",
    "\n",
    "#split into X & Y\n",
    "X_train = train.drop('Target_Var', axis=1)\n",
    "X_test = test.drop('Target_Var', axis=1)\n",
    "Y_train = train['Target_Var']\n",
    "Y_test = test['Target_Var']\n",
    "\n",
    "# build initial version of model \n",
    "forest = RandomForestClassifier(n_jobs=-1,\n",
    "                                random_state=0,\n",
    "                                min_samples_leaf=200,\n",
    "                                )\n",
    "\n",
    "forest.fit(X_train, Y_train)\n",
    "preds = forest.predict_proba(X_test)\n",
    "accuracy = forest.score(X_test, Y_test)\n",
    "print('Accuracy: {:.3f}'.format(accuracy))\n",
    "print('AUC: {:.3f}'.format(roc_auc_score(Y_test, preds[:,1])))"
   ]
  },
  {
   "cell_type": "code",
   "execution_count": 30,
   "metadata": {},
   "outputs": [
    {
     "data": {
      "text/plain": [
       "0.6021054683692367"
      ]
     },
     "execution_count": 30,
     "metadata": {},
     "output_type": "execute_result"
    }
   ],
   "source": [
    "forest.score(X_train, Y_train)"
   ]
  },
  {
   "cell_type": "code",
   "execution_count": 31,
   "metadata": {},
   "outputs": [
    {
     "name": "stdout",
     "output_type": "stream",
     "text": [
      "AUC: 0.646\n"
     ]
    }
   ],
   "source": [
    "print('AUC: {:.3f}'.format(roc_auc_score(Y_train, forest.predict_proba(X_train)[:,1])))"
   ]
  },
  {
   "cell_type": "code",
   "execution_count": 23,
   "metadata": {},
   "outputs": [
    {
     "data": {
      "text/plain": [
       "20518"
      ]
     },
     "execution_count": 23,
     "metadata": {},
     "output_type": "execute_result"
    }
   ],
   "source": [
    "X_train.shape[0]"
   ]
  },
  {
   "cell_type": "code",
   "execution_count": null,
   "metadata": {},
   "outputs": [],
   "source": []
  }
 ],
 "metadata": {
  "kernelspec": {
   "display_name": "Python 3",
   "language": "python",
   "name": "python3"
  },
  "language_info": {
   "codemirror_mode": {
    "name": "ipython",
    "version": 3
   },
   "file_extension": ".py",
   "mimetype": "text/x-python",
   "name": "python",
   "nbconvert_exporter": "python",
   "pygments_lexer": "ipython3",
   "version": "3.6.8"
  }
 },
 "nbformat": 4,
 "nbformat_minor": 2
}
